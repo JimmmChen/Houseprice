{
 "cells": [
  {
   "cell_type": "code",
<<<<<<< HEAD:Houseprice/.ipynb_checkpoints/FE&Prediction-checkpoint.ipynb
   "execution_count": 2,
=======
   "execution_count": 55,
>>>>>>> 42030682f5a6b4886bac9a72aba43e6b5345c753:Houseprice/.ipynb_checkpoints/FE-checkpoint.ipynb
   "metadata": {
    "collapsed": true
   },
   "outputs": [],
   "source": [
    "import numpy as np # linear algebra\n",
    "import pandas as pd # data processing, CSV file I/O (e.g. pd.read_csv)\n",
    "%matplotlib inline\n",
    "import matplotlib.pyplot as plt  # Matlab-style plotting"
   ]
  },
  {
   "cell_type": "code",
<<<<<<< HEAD:Houseprice/.ipynb_checkpoints/FE&Prediction-checkpoint.ipynb
   "execution_count": 3,
=======
   "execution_count": 56,
>>>>>>> 42030682f5a6b4886bac9a72aba43e6b5345c753:Houseprice/.ipynb_checkpoints/FE-checkpoint.ipynb
   "metadata": {},
   "outputs": [
    {
     "data": {
      "text/html": [
       "<div>\n",
       "<style>\n",
       "    .dataframe thead tr:only-child th {\n",
       "        text-align: right;\n",
       "    }\n",
       "\n",
       "    .dataframe thead th {\n",
       "        text-align: left;\n",
       "    }\n",
       "\n",
       "    .dataframe tbody tr th {\n",
       "        vertical-align: top;\n",
       "    }\n",
       "</style>\n",
       "<table border=\"1\" class=\"dataframe\">\n",
       "  <thead>\n",
       "    <tr style=\"text-align: right;\">\n",
       "      <th></th>\n",
       "      <th>Id</th>\n",
       "      <th>MSSubClass</th>\n",
       "      <th>MSZoning</th>\n",
       "      <th>LotFrontage</th>\n",
       "      <th>LotArea</th>\n",
       "      <th>Street</th>\n",
       "      <th>Alley</th>\n",
       "      <th>LotShape</th>\n",
       "      <th>LandContour</th>\n",
       "      <th>Utilities</th>\n",
       "      <th>...</th>\n",
       "      <th>PoolArea</th>\n",
       "      <th>PoolQC</th>\n",
       "      <th>Fence</th>\n",
       "      <th>MiscFeature</th>\n",
       "      <th>MiscVal</th>\n",
       "      <th>MoSold</th>\n",
       "      <th>YrSold</th>\n",
       "      <th>SaleType</th>\n",
       "      <th>SaleCondition</th>\n",
       "      <th>SalePrice</th>\n",
       "    </tr>\n",
       "  </thead>\n",
       "  <tbody>\n",
       "    <tr>\n",
       "      <th>0</th>\n",
       "      <td>1</td>\n",
       "      <td>60</td>\n",
       "      <td>RL</td>\n",
       "      <td>65.0</td>\n",
       "      <td>8450</td>\n",
       "      <td>Pave</td>\n",
       "      <td>NaN</td>\n",
       "      <td>Reg</td>\n",
       "      <td>Lvl</td>\n",
       "      <td>AllPub</td>\n",
       "      <td>...</td>\n",
       "      <td>0</td>\n",
       "      <td>NaN</td>\n",
       "      <td>NaN</td>\n",
       "      <td>NaN</td>\n",
       "      <td>0</td>\n",
       "      <td>2</td>\n",
       "      <td>2008</td>\n",
       "      <td>WD</td>\n",
       "      <td>Normal</td>\n",
       "      <td>208500</td>\n",
       "    </tr>\n",
       "    <tr>\n",
       "      <th>1</th>\n",
       "      <td>2</td>\n",
       "      <td>20</td>\n",
       "      <td>RL</td>\n",
       "      <td>80.0</td>\n",
       "      <td>9600</td>\n",
       "      <td>Pave</td>\n",
       "      <td>NaN</td>\n",
       "      <td>Reg</td>\n",
       "      <td>Lvl</td>\n",
       "      <td>AllPub</td>\n",
       "      <td>...</td>\n",
       "      <td>0</td>\n",
       "      <td>NaN</td>\n",
       "      <td>NaN</td>\n",
       "      <td>NaN</td>\n",
       "      <td>0</td>\n",
       "      <td>5</td>\n",
       "      <td>2007</td>\n",
       "      <td>WD</td>\n",
       "      <td>Normal</td>\n",
       "      <td>181500</td>\n",
       "    </tr>\n",
       "    <tr>\n",
       "      <th>2</th>\n",
       "      <td>3</td>\n",
       "      <td>60</td>\n",
       "      <td>RL</td>\n",
       "      <td>68.0</td>\n",
       "      <td>11250</td>\n",
       "      <td>Pave</td>\n",
       "      <td>NaN</td>\n",
       "      <td>IR1</td>\n",
       "      <td>Lvl</td>\n",
       "      <td>AllPub</td>\n",
       "      <td>...</td>\n",
       "      <td>0</td>\n",
       "      <td>NaN</td>\n",
       "      <td>NaN</td>\n",
       "      <td>NaN</td>\n",
       "      <td>0</td>\n",
       "      <td>9</td>\n",
       "      <td>2008</td>\n",
       "      <td>WD</td>\n",
       "      <td>Normal</td>\n",
       "      <td>223500</td>\n",
       "    </tr>\n",
       "    <tr>\n",
       "      <th>3</th>\n",
       "      <td>4</td>\n",
       "      <td>70</td>\n",
       "      <td>RL</td>\n",
       "      <td>60.0</td>\n",
       "      <td>9550</td>\n",
       "      <td>Pave</td>\n",
       "      <td>NaN</td>\n",
       "      <td>IR1</td>\n",
       "      <td>Lvl</td>\n",
       "      <td>AllPub</td>\n",
       "      <td>...</td>\n",
       "      <td>0</td>\n",
       "      <td>NaN</td>\n",
       "      <td>NaN</td>\n",
       "      <td>NaN</td>\n",
       "      <td>0</td>\n",
       "      <td>2</td>\n",
       "      <td>2006</td>\n",
       "      <td>WD</td>\n",
       "      <td>Abnorml</td>\n",
       "      <td>140000</td>\n",
       "    </tr>\n",
       "    <tr>\n",
       "      <th>4</th>\n",
       "      <td>5</td>\n",
       "      <td>60</td>\n",
       "      <td>RL</td>\n",
       "      <td>84.0</td>\n",
       "      <td>14260</td>\n",
       "      <td>Pave</td>\n",
       "      <td>NaN</td>\n",
       "      <td>IR1</td>\n",
       "      <td>Lvl</td>\n",
       "      <td>AllPub</td>\n",
       "      <td>...</td>\n",
       "      <td>0</td>\n",
       "      <td>NaN</td>\n",
       "      <td>NaN</td>\n",
       "      <td>NaN</td>\n",
       "      <td>0</td>\n",
       "      <td>12</td>\n",
       "      <td>2008</td>\n",
       "      <td>WD</td>\n",
       "      <td>Normal</td>\n",
       "      <td>250000</td>\n",
       "    </tr>\n",
       "  </tbody>\n",
       "</table>\n",
       "<p>5 rows × 81 columns</p>\n",
       "</div>"
      ],
      "text/plain": [
       "   Id  MSSubClass MSZoning  LotFrontage  LotArea Street Alley LotShape  \\\n",
       "0   1          60       RL         65.0     8450   Pave   NaN      Reg   \n",
       "1   2          20       RL         80.0     9600   Pave   NaN      Reg   \n",
       "2   3          60       RL         68.0    11250   Pave   NaN      IR1   \n",
       "3   4          70       RL         60.0     9550   Pave   NaN      IR1   \n",
       "4   5          60       RL         84.0    14260   Pave   NaN      IR1   \n",
       "\n",
       "  LandContour Utilities    ...     PoolArea PoolQC Fence MiscFeature MiscVal  \\\n",
       "0         Lvl    AllPub    ...            0    NaN   NaN         NaN       0   \n",
       "1         Lvl    AllPub    ...            0    NaN   NaN         NaN       0   \n",
       "2         Lvl    AllPub    ...            0    NaN   NaN         NaN       0   \n",
       "3         Lvl    AllPub    ...            0    NaN   NaN         NaN       0   \n",
       "4         Lvl    AllPub    ...            0    NaN   NaN         NaN       0   \n",
       "\n",
       "  MoSold YrSold  SaleType  SaleCondition  SalePrice  \n",
       "0      2   2008        WD         Normal     208500  \n",
       "1      5   2007        WD         Normal     181500  \n",
       "2      9   2008        WD         Normal     223500  \n",
       "3      2   2006        WD        Abnorml     140000  \n",
       "4     12   2008        WD         Normal     250000  \n",
       "\n",
       "[5 rows x 81 columns]"
      ]
     },
<<<<<<< HEAD:Houseprice/.ipynb_checkpoints/FE&Prediction-checkpoint.ipynb
     "execution_count": 3,
=======
     "execution_count": 56,
>>>>>>> 42030682f5a6b4886bac9a72aba43e6b5345c753:Houseprice/.ipynb_checkpoints/FE-checkpoint.ipynb
     "metadata": {},
     "output_type": "execute_result"
    }
   ],
   "source": [
    "train = pd.read_csv('../Houseprice/train.csv')\n",
    "test = pd.read_csv('../Houseprice/test.csv')\n",
    "train.head(5)"
   ]
  },
  {
   "cell_type": "code",
<<<<<<< HEAD:Houseprice/.ipynb_checkpoints/FE&Prediction-checkpoint.ipynb
   "execution_count": 4,
=======
   "execution_count": 57,
>>>>>>> 42030682f5a6b4886bac9a72aba43e6b5345c753:Houseprice/.ipynb_checkpoints/FE-checkpoint.ipynb
   "metadata": {},
   "outputs": [
    {
     "name": "stdout",
     "output_type": "stream",
     "text": [
      "The train data size before dropping Id feature is : (1460, 81) \n",
      "The test data size before dropping Id feature is : (1459, 80) \n",
      "\n",
      "The train data size after dropping Id feature is : (1460, 80) \n",
      "The test data size after dropping Id feature is : (1459, 79) \n"
     ]
    }
   ],
   "source": [
    "#check the numbers of samples and features\n",
    "print(\"The train data size before dropping Id feature is : {} \".format(train.shape))\n",
    "print(\"The test data size before dropping Id feature is : {} \".format(test.shape))\n",
    "\n",
    "#Save the 'Id' column\n",
    "train_ID = train['Id']\n",
    "test_ID = test['Id']\n",
    "\n",
    "#Now drop the  'Id' colum since it's unnecessary for  the prediction process.\n",
    "train.drop(\"Id\", axis = 1, inplace = True)\n",
    "test.drop(\"Id\", axis = 1, inplace = True)\n",
    "\n",
    "#check again the data size after dropping the 'Id' variable\n",
    "print(\"\\nThe train data size after dropping Id feature is : {} \".format(train.shape)) \n",
    "print(\"The test data size after dropping Id feature is : {} \".format(test.shape))"
   ]
  },
  {
   "cell_type": "code",
<<<<<<< HEAD:Houseprice/.ipynb_checkpoints/FE&Prediction-checkpoint.ipynb
   "execution_count": 5,
=======
   "execution_count": 58,
>>>>>>> 42030682f5a6b4886bac9a72aba43e6b5345c753:Houseprice/.ipynb_checkpoints/FE-checkpoint.ipynb
   "metadata": {},
   "outputs": [
    {
     "data": {
      "image/png": "iVBORw0KGgoAAAANSUhEUgAAAZUAAAEHCAYAAABm9dtzAAAABHNCSVQICAgIfAhkiAAAAAlwSFlz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\nRK5CYII=\n",
      "text/plain": [
<<<<<<< HEAD:Houseprice/.ipynb_checkpoints/FE&Prediction-checkpoint.ipynb
       "<matplotlib.figure.Figure at 0x116ef5ba8>"
=======
       "<matplotlib.figure.Figure at 0x1185cfba8>"
>>>>>>> 42030682f5a6b4886bac9a72aba43e6b5345c753:Houseprice/.ipynb_checkpoints/FE-checkpoint.ipynb
      ]
     },
     "metadata": {},
     "output_type": "display_data"
    }
   ],
   "source": [
    "fig, ax = plt.subplots()\n",
    "ax.scatter(x = train['GrLivArea'], y = train['SalePrice'])\n",
    "plt.ylabel('SalePrice', fontsize=13)\n",
    "plt.xlabel('GrLivArea', fontsize=13)\n",
    "plt.show()"
   ]
  },
  {
   "cell_type": "code",
<<<<<<< HEAD:Houseprice/.ipynb_checkpoints/FE&Prediction-checkpoint.ipynb
   "execution_count": 6,
=======
   "execution_count": 59,
>>>>>>> 42030682f5a6b4886bac9a72aba43e6b5345c753:Houseprice/.ipynb_checkpoints/FE-checkpoint.ipynb
   "metadata": {},
   "outputs": [
    {
     "data": {
      "image/png": "iVBORw0KGgoAAAANSUhEUgAAAZUAAAEHCAYAAABm9dtzAAAABHNCSVQICAgIfAhkiAAAAAlwSFlz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\nURRFUQrG/wfwVS3myFZ7KgAAAABJRU5ErkJggg==\n",
      "text/plain": [
<<<<<<< HEAD:Houseprice/.ipynb_checkpoints/FE&Prediction-checkpoint.ipynb
       "<matplotlib.figure.Figure at 0x117a8af98>"
=======
       "<matplotlib.figure.Figure at 0x11905af28>"
>>>>>>> 42030682f5a6b4886bac9a72aba43e6b5345c753:Houseprice/.ipynb_checkpoints/FE-checkpoint.ipynb
      ]
     },
     "metadata": {},
     "output_type": "display_data"
    }
   ],
   "source": [
    "#Deleting outliers\n",
    "train = train.drop(train[(train['GrLivArea']>4000) & (train['SalePrice']<300000)].index)\n",
    "\n",
    "#Check the graphic again\n",
    "fig, ax = plt.subplots()\n",
    "ax.scatter(train['GrLivArea'], train['SalePrice'])\n",
    "plt.ylabel('SalePrice', fontsize=13)\n",
    "plt.xlabel('GrLivArea', fontsize=13)\n",
    "plt.show()"
   ]
  },
  {
   "cell_type": "code",
<<<<<<< HEAD:Houseprice/.ipynb_checkpoints/FE&Prediction-checkpoint.ipynb
   "execution_count": 7,
   "metadata": {
    "collapsed": true
   },
=======
   "execution_count": 60,
   "metadata": {},
>>>>>>> 42030682f5a6b4886bac9a72aba43e6b5345c753:Houseprice/.ipynb_checkpoints/FE-checkpoint.ipynb
   "outputs": [],
   "source": [
    "#We use the numpy fuction log1p which  applies log(1+x) to all elements of the column\n",
    "train[\"SalePrice\"] = np.log1p(train[\"SalePrice\"])"
   ]
  },
  {
   "cell_type": "code",
<<<<<<< HEAD:Houseprice/.ipynb_checkpoints/FE&Prediction-checkpoint.ipynb
   "execution_count": 8,
=======
   "execution_count": 61,
>>>>>>> 42030682f5a6b4886bac9a72aba43e6b5345c753:Houseprice/.ipynb_checkpoints/FE-checkpoint.ipynb
   "metadata": {},
   "outputs": [
    {
     "name": "stdout",
     "output_type": "stream",
     "text": [
      "all_data size is : (2917, 79)\n"
     ]
    }
   ],
   "source": [
    "ntrain = train.shape[0]\n",
    "ntest = test.shape[0]\n",
    "y_train = train.SalePrice.values\n",
    "#let's first concatenate the train and test data in the same dataframe\n",
    "all_data = pd.concat((train, test)).reset_index(drop=True)\n",
    "all_data.drop(['SalePrice'], axis=1, inplace=True)\n",
    "print(\"all_data size is : {}\".format(all_data.shape))"
   ]
  },
  {
   "cell_type": "code",
<<<<<<< HEAD:Houseprice/.ipynb_checkpoints/FE&Prediction-checkpoint.ipynb
   "execution_count": 9,
=======
   "execution_count": 62,
>>>>>>> 42030682f5a6b4886bac9a72aba43e6b5345c753:Houseprice/.ipynb_checkpoints/FE-checkpoint.ipynb
   "metadata": {},
   "outputs": [
    {
     "data": {
      "text/html": [
       "<div>\n",
       "<style>\n",
       "    .dataframe thead tr:only-child th {\n",
       "        text-align: right;\n",
       "    }\n",
       "\n",
       "    .dataframe thead th {\n",
       "        text-align: left;\n",
       "    }\n",
       "\n",
       "    .dataframe tbody tr th {\n",
       "        vertical-align: top;\n",
       "    }\n",
       "</style>\n",
       "<table border=\"1\" class=\"dataframe\">\n",
       "  <thead>\n",
       "    <tr style=\"text-align: right;\">\n",
       "      <th></th>\n",
       "      <th>Missing Ratio</th>\n",
       "    </tr>\n",
       "  </thead>\n",
       "  <tbody>\n",
       "    <tr>\n",
       "      <th>PoolQC</th>\n",
       "      <td>99.691464</td>\n",
       "    </tr>\n",
       "    <tr>\n",
       "      <th>MiscFeature</th>\n",
       "      <td>96.400411</td>\n",
       "    </tr>\n",
       "    <tr>\n",
       "      <th>Alley</th>\n",
       "      <td>93.212204</td>\n",
       "    </tr>\n",
       "    <tr>\n",
       "      <th>Fence</th>\n",
       "      <td>80.425094</td>\n",
       "    </tr>\n",
       "    <tr>\n",
       "      <th>FireplaceQu</th>\n",
       "      <td>48.680151</td>\n",
       "    </tr>\n",
       "    <tr>\n",
       "      <th>LotFrontage</th>\n",
       "      <td>16.660953</td>\n",
       "    </tr>\n",
       "    <tr>\n",
       "      <th>GarageQual</th>\n",
       "      <td>5.450806</td>\n",
       "    </tr>\n",
       "    <tr>\n",
       "      <th>GarageCond</th>\n",
       "      <td>5.450806</td>\n",
       "    </tr>\n",
       "    <tr>\n",
       "      <th>GarageFinish</th>\n",
       "      <td>5.450806</td>\n",
       "    </tr>\n",
       "    <tr>\n",
       "      <th>GarageYrBlt</th>\n",
       "      <td>5.450806</td>\n",
       "    </tr>\n",
       "    <tr>\n",
       "      <th>GarageType</th>\n",
       "      <td>5.382242</td>\n",
       "    </tr>\n",
       "    <tr>\n",
       "      <th>BsmtExposure</th>\n",
       "      <td>2.811107</td>\n",
       "    </tr>\n",
       "    <tr>\n",
       "      <th>BsmtCond</th>\n",
       "      <td>2.811107</td>\n",
       "    </tr>\n",
       "    <tr>\n",
       "      <th>BsmtQual</th>\n",
       "      <td>2.776826</td>\n",
       "    </tr>\n",
       "    <tr>\n",
       "      <th>BsmtFinType2</th>\n",
       "      <td>2.742544</td>\n",
       "    </tr>\n",
       "    <tr>\n",
       "      <th>BsmtFinType1</th>\n",
       "      <td>2.708262</td>\n",
       "    </tr>\n",
       "    <tr>\n",
       "      <th>MasVnrType</th>\n",
       "      <td>0.822763</td>\n",
       "    </tr>\n",
       "    <tr>\n",
       "      <th>MasVnrArea</th>\n",
       "      <td>0.788481</td>\n",
       "    </tr>\n",
       "    <tr>\n",
       "      <th>MSZoning</th>\n",
       "      <td>0.137127</td>\n",
       "    </tr>\n",
       "    <tr>\n",
       "      <th>BsmtFullBath</th>\n",
       "      <td>0.068564</td>\n",
       "    </tr>\n",
       "  </tbody>\n",
       "</table>\n",
       "</div>"
      ],
      "text/plain": [
       "              Missing Ratio\n",
       "PoolQC            99.691464\n",
       "MiscFeature       96.400411\n",
       "Alley             93.212204\n",
       "Fence             80.425094\n",
       "FireplaceQu       48.680151\n",
       "LotFrontage       16.660953\n",
       "GarageQual         5.450806\n",
       "GarageCond         5.450806\n",
       "GarageFinish       5.450806\n",
       "GarageYrBlt        5.450806\n",
       "GarageType         5.382242\n",
       "BsmtExposure       2.811107\n",
       "BsmtCond           2.811107\n",
       "BsmtQual           2.776826\n",
       "BsmtFinType2       2.742544\n",
       "BsmtFinType1       2.708262\n",
       "MasVnrType         0.822763\n",
       "MasVnrArea         0.788481\n",
       "MSZoning           0.137127\n",
       "BsmtFullBath       0.068564"
      ]
     },
<<<<<<< HEAD:Houseprice/.ipynb_checkpoints/FE&Prediction-checkpoint.ipynb
     "execution_count": 9,
=======
     "execution_count": 62,
>>>>>>> 42030682f5a6b4886bac9a72aba43e6b5345c753:Houseprice/.ipynb_checkpoints/FE-checkpoint.ipynb
     "metadata": {},
     "output_type": "execute_result"
    }
   ],
   "source": [
    "#Dealing with missing Data\n",
    "all_data_na = (all_data.isnull().sum() / len(all_data)) * 100\n",
    "all_data_na = all_data_na.drop(all_data_na[all_data_na == 0].index).sort_values(ascending=False)[:30]\n",
    "missing_data = pd.DataFrame({'Missing Ratio' :all_data_na})\n",
    "missing_data.head(20)"
   ]
  },
  {
   "cell_type": "code",
<<<<<<< HEAD:Houseprice/.ipynb_checkpoints/FE&Prediction-checkpoint.ipynb
   "execution_count": 10,
=======
   "execution_count": 63,
>>>>>>> 42030682f5a6b4886bac9a72aba43e6b5345c753:Houseprice/.ipynb_checkpoints/FE-checkpoint.ipynb
   "metadata": {},
   "outputs": [
    {
     "data": {
      "text/plain": [
<<<<<<< HEAD:Houseprice/.ipynb_checkpoints/FE&Prediction-checkpoint.ipynb
       "<matplotlib.axes._subplots.AxesSubplot at 0x11cd10208>"
      ]
     },
     "execution_count": 10,
=======
       "<matplotlib.axes._subplots.AxesSubplot at 0x10e8785c0>"
      ]
     },
     "execution_count": 63,
>>>>>>> 42030682f5a6b4886bac9a72aba43e6b5345c753:Houseprice/.ipynb_checkpoints/FE-checkpoint.ipynb
     "metadata": {},
     "output_type": "execute_result"
    },
    {
     "data": {
      "image/png": "iVBORw0KGgoAAAANSUhEUgAAApoAAAJJCAYAAAAKppd+AAAABHNCSVQICAgIfAhkiAAAAAlwSFlz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\n1wAAAABJRU5ErkJggg==\n",
      "text/plain": [
<<<<<<< HEAD:Houseprice/.ipynb_checkpoints/FE&Prediction-checkpoint.ipynb
       "<matplotlib.figure.Figure at 0x116e4b208>"
=======
       "<matplotlib.figure.Figure at 0x10905b9e8>"
>>>>>>> 42030682f5a6b4886bac9a72aba43e6b5345c753:Houseprice/.ipynb_checkpoints/FE-checkpoint.ipynb
      ]
     },
     "metadata": {},
     "output_type": "display_data"
    }
   ],
   "source": [
    "import seaborn as sns\n",
    "#Correlation map to see how features are correlated with SalePrice\n",
    "corrmat = train.corr()\n",
    "plt.subplots(figsize=(12,9))\n",
    "sns.heatmap(corrmat, vmax=0.9, square=True)"
   ]
  },
  {
   "cell_type": "code",
<<<<<<< HEAD:Houseprice/.ipynb_checkpoints/FE&Prediction-checkpoint.ipynb
   "execution_count": 11,
=======
   "execution_count": 64,
>>>>>>> 42030682f5a6b4886bac9a72aba43e6b5345c753:Houseprice/.ipynb_checkpoints/FE-checkpoint.ipynb
   "metadata": {
    "collapsed": true
   },
   "outputs": [],
   "source": [
    "all_data[\"PoolQC\"] = all_data[\"PoolQC\"].fillna(\"None\")\n",
    "all_data[\"MiscFeature\"] = all_data[\"MiscFeature\"].fillna(\"None\")\n",
    "all_data[\"Alley\"] = all_data[\"Alley\"].fillna(\"None\")\n",
    "all_data[\"Fence\"] = all_data[\"Fence\"].fillna(\"None\")\n",
    "all_data[\"FireplaceQu\"] = all_data[\"FireplaceQu\"].fillna(\"None\")"
   ]
  },
  {
   "cell_type": "code",
<<<<<<< HEAD:Houseprice/.ipynb_checkpoints/FE&Prediction-checkpoint.ipynb
   "execution_count": 12,
=======
   "execution_count": 65,
>>>>>>> 42030682f5a6b4886bac9a72aba43e6b5345c753:Houseprice/.ipynb_checkpoints/FE-checkpoint.ipynb
   "metadata": {
    "collapsed": true
   },
   "outputs": [],
   "source": [
    "#Group by neighborhood and fill in missing value by the median LotFrontage of all the neighborhood\n",
    "# all_data[\"LotFrontage\"] = all_data.groupby(\"Neighborhood\")[\"LotFrontage\"].transform(\n",
    "#     lambda x: x.fillna(x.median()))\n",
    "all_data[\"LotFrontage\"] = all_data.groupby(\"Neighborhood\")[\"LotFrontage\"].transform(\n",
    "    lambda x: x.fillna(x.median()))"
   ]
  },
  {
   "cell_type": "code",
<<<<<<< HEAD:Houseprice/.ipynb_checkpoints/FE&Prediction-checkpoint.ipynb
   "execution_count": 13,
=======
   "execution_count": 66,
>>>>>>> 42030682f5a6b4886bac9a72aba43e6b5345c753:Houseprice/.ipynb_checkpoints/FE-checkpoint.ipynb
   "metadata": {
    "collapsed": true
   },
   "outputs": [],
   "source": [
    "for col in ('GarageType', 'GarageFinish', 'GarageQual', 'GarageCond'):\n",
    "    all_data[col] = all_data[col].fillna('None')"
   ]
  },
  {
   "cell_type": "code",
<<<<<<< HEAD:Houseprice/.ipynb_checkpoints/FE&Prediction-checkpoint.ipynb
   "execution_count": 14,
=======
   "execution_count": 67,
>>>>>>> 42030682f5a6b4886bac9a72aba43e6b5345c753:Houseprice/.ipynb_checkpoints/FE-checkpoint.ipynb
   "metadata": {
    "collapsed": true
   },
   "outputs": [],
   "source": [
    "for col in ('GarageYrBlt', 'GarageArea', 'GarageCars'):\n",
    "    all_data[col] = all_data[col].fillna(0)"
   ]
  },
  {
   "cell_type": "code",
<<<<<<< HEAD:Houseprice/.ipynb_checkpoints/FE&Prediction-checkpoint.ipynb
   "execution_count": 15,
=======
   "execution_count": 68,
>>>>>>> 42030682f5a6b4886bac9a72aba43e6b5345c753:Houseprice/.ipynb_checkpoints/FE-checkpoint.ipynb
   "metadata": {
    "collapsed": true
   },
   "outputs": [],
   "source": [
    "for col in ('BsmtFinSF1', 'BsmtFinSF2', 'BsmtUnfSF','TotalBsmtSF', 'BsmtFullBath', 'BsmtHalfBath'):\n",
    "    all_data[col] = all_data[col].fillna(0)"
   ]
  },
  {
   "cell_type": "code",
<<<<<<< HEAD:Houseprice/.ipynb_checkpoints/FE&Prediction-checkpoint.ipynb
   "execution_count": 16,
=======
   "execution_count": 70,
>>>>>>> 42030682f5a6b4886bac9a72aba43e6b5345c753:Houseprice/.ipynb_checkpoints/FE-checkpoint.ipynb
   "metadata": {
    "collapsed": true
   },
   "outputs": [],
   "source": [
    "for col in ('BsmtQual', 'BsmtCond', 'BsmtExposure', 'BsmtFinType1', 'BsmtFinType2'):\n",
    "    all_data[col] = all_data[col].fillna('None')"
   ]
  },
  {
   "cell_type": "code",
<<<<<<< HEAD:Houseprice/.ipynb_checkpoints/FE&Prediction-checkpoint.ipynb
   "execution_count": 17,
=======
   "execution_count": 71,
>>>>>>> 42030682f5a6b4886bac9a72aba43e6b5345c753:Houseprice/.ipynb_checkpoints/FE-checkpoint.ipynb
   "metadata": {
    "collapsed": true
   },
   "outputs": [],
   "source": [
    "all_data[\"MasVnrType\"] = all_data[\"MasVnrType\"].fillna(\"None\")\n",
    "all_data[\"MasVnrArea\"] = all_data[\"MasVnrArea\"].fillna(0)"
   ]
  },
  {
   "cell_type": "code",
<<<<<<< HEAD:Houseprice/.ipynb_checkpoints/FE&Prediction-checkpoint.ipynb
   "execution_count": 18,
=======
   "execution_count": 72,
>>>>>>> 42030682f5a6b4886bac9a72aba43e6b5345c753:Houseprice/.ipynb_checkpoints/FE-checkpoint.ipynb
   "metadata": {
    "collapsed": true
   },
   "outputs": [],
   "source": [
    "all_data['MSZoning'] = all_data['MSZoning'].fillna(all_data['MSZoning'].mode()[0])"
   ]
  },
  {
   "cell_type": "code",
<<<<<<< HEAD:Houseprice/.ipynb_checkpoints/FE&Prediction-checkpoint.ipynb
   "execution_count": 19,
=======
   "execution_count": 73,
>>>>>>> 42030682f5a6b4886bac9a72aba43e6b5345c753:Houseprice/.ipynb_checkpoints/FE-checkpoint.ipynb
   "metadata": {
    "collapsed": true
   },
   "outputs": [],
   "source": [
    "all_data = all_data.drop(['Utilities'], axis=1)"
   ]
  },
  {
   "cell_type": "code",
<<<<<<< HEAD:Houseprice/.ipynb_checkpoints/FE&Prediction-checkpoint.ipynb
   "execution_count": 20,
=======
   "execution_count": 74,
>>>>>>> 42030682f5a6b4886bac9a72aba43e6b5345c753:Houseprice/.ipynb_checkpoints/FE-checkpoint.ipynb
   "metadata": {
    "collapsed": true
   },
   "outputs": [],
   "source": [
    "all_data[\"Functional\"] = all_data[\"Functional\"].fillna(\"Typ\")"
   ]
  },
  {
   "cell_type": "code",
<<<<<<< HEAD:Houseprice/.ipynb_checkpoints/FE&Prediction-checkpoint.ipynb
   "execution_count": 21,
=======
   "execution_count": 75,
>>>>>>> 42030682f5a6b4886bac9a72aba43e6b5345c753:Houseprice/.ipynb_checkpoints/FE-checkpoint.ipynb
   "metadata": {
    "collapsed": true
   },
   "outputs": [],
   "source": [
    "all_data['Electrical'] = all_data['Electrical'].fillna(all_data['Electrical'].mode()[0])"
   ]
  },
  {
   "cell_type": "code",
<<<<<<< HEAD:Houseprice/.ipynb_checkpoints/FE&Prediction-checkpoint.ipynb
   "execution_count": 22,
=======
   "execution_count": 76,
>>>>>>> 42030682f5a6b4886bac9a72aba43e6b5345c753:Houseprice/.ipynb_checkpoints/FE-checkpoint.ipynb
   "metadata": {
    "collapsed": true
   },
   "outputs": [],
   "source": [
    "all_data['KitchenQual'] = all_data['KitchenQual'].fillna(all_data['KitchenQual'].mode()[0])"
   ]
  },
  {
   "cell_type": "code",
<<<<<<< HEAD:Houseprice/.ipynb_checkpoints/FE&Prediction-checkpoint.ipynb
   "execution_count": 23,
=======
   "execution_count": 77,
>>>>>>> 42030682f5a6b4886bac9a72aba43e6b5345c753:Houseprice/.ipynb_checkpoints/FE-checkpoint.ipynb
   "metadata": {
    "collapsed": true
   },
   "outputs": [],
   "source": [
    "all_data['Exterior1st'] = all_data['Exterior1st'].fillna(all_data['Exterior1st'].mode()[0])\n",
    "all_data['Exterior2nd'] = all_data['Exterior2nd'].fillna(all_data['Exterior2nd'].mode()[0])"
   ]
  },
  {
   "cell_type": "code",
<<<<<<< HEAD:Houseprice/.ipynb_checkpoints/FE&Prediction-checkpoint.ipynb
   "execution_count": 24,
=======
   "execution_count": 78,
>>>>>>> 42030682f5a6b4886bac9a72aba43e6b5345c753:Houseprice/.ipynb_checkpoints/FE-checkpoint.ipynb
   "metadata": {
    "collapsed": true
   },
   "outputs": [],
   "source": [
    "all_data['SaleType'] = all_data['SaleType'].fillna(all_data['SaleType'].mode()[0])"
   ]
  },
  {
   "cell_type": "code",
<<<<<<< HEAD:Houseprice/.ipynb_checkpoints/FE&Prediction-checkpoint.ipynb
   "execution_count": 25,
=======
   "execution_count": 79,
>>>>>>> 42030682f5a6b4886bac9a72aba43e6b5345c753:Houseprice/.ipynb_checkpoints/FE-checkpoint.ipynb
   "metadata": {
    "collapsed": true
   },
   "outputs": [],
   "source": [
    "all_data['MSSubClass'] = all_data['MSSubClass'].fillna(\"None\")"
   ]
  },
  {
   "cell_type": "code",
<<<<<<< HEAD:Houseprice/.ipynb_checkpoints/FE&Prediction-checkpoint.ipynb
   "execution_count": 26,
=======
   "execution_count": 80,
>>>>>>> 42030682f5a6b4886bac9a72aba43e6b5345c753:Houseprice/.ipynb_checkpoints/FE-checkpoint.ipynb
   "metadata": {},
   "outputs": [
    {
     "data": {
      "text/html": [
       "<div>\n",
       "<style>\n",
       "    .dataframe thead tr:only-child th {\n",
       "        text-align: right;\n",
       "    }\n",
       "\n",
       "    .dataframe thead th {\n",
       "        text-align: left;\n",
       "    }\n",
       "\n",
       "    .dataframe tbody tr th {\n",
       "        vertical-align: top;\n",
       "    }\n",
       "</style>\n",
       "<table border=\"1\" class=\"dataframe\">\n",
       "  <thead>\n",
       "    <tr style=\"text-align: right;\">\n",
       "      <th></th>\n",
       "      <th>Missing Ratio</th>\n",
       "    </tr>\n",
       "  </thead>\n",
       "  <tbody>\n",
       "  </tbody>\n",
       "</table>\n",
       "</div>"
      ],
      "text/plain": [
       "Empty DataFrame\n",
       "Columns: [Missing Ratio]\n",
       "Index: []"
      ]
     },
<<<<<<< HEAD:Houseprice/.ipynb_checkpoints/FE&Prediction-checkpoint.ipynb
     "execution_count": 26,
=======
     "execution_count": 80,
>>>>>>> 42030682f5a6b4886bac9a72aba43e6b5345c753:Houseprice/.ipynb_checkpoints/FE-checkpoint.ipynb
     "metadata": {},
     "output_type": "execute_result"
    }
   ],
   "source": [
    "#Check remaining missing values if any \n",
    "all_data_na = (all_data.isnull().sum() / len(all_data)) * 100\n",
    "all_data_na = all_data_na.drop(all_data_na[all_data_na == 0].index).sort_values(ascending=False)\n",
    "missing_data = pd.DataFrame({'Missing Ratio' :all_data_na})\n",
    "missing_data.head()"
   ]
  },
  {
   "cell_type": "code",
<<<<<<< HEAD:Houseprice/.ipynb_checkpoints/FE&Prediction-checkpoint.ipynb
   "execution_count": 27,
=======
   "execution_count": 81,
>>>>>>> 42030682f5a6b4886bac9a72aba43e6b5345c753:Houseprice/.ipynb_checkpoints/FE-checkpoint.ipynb
   "metadata": {
    "collapsed": true
   },
   "outputs": [],
   "source": [
    "#MSSubClass=The building class\n",
    "all_data['MSSubClass'] = all_data['MSSubClass'].apply(str)\n",
    "\n",
    "\n",
    "#Changing OverallCond into a categorical variable\n",
    "all_data['OverallCond'] = all_data['OverallCond'].astype('str')\n",
    "\n",
    "\n",
    "#Year and month sold are transformed into categorical features.\n",
    "all_data['YrSold'] = all_data['YrSold'].astype('str')\n",
    "all_data['MoSold'] = all_data['MoSold'].astype('str')"
   ]
  },
  {
   "cell_type": "code",
<<<<<<< HEAD:Houseprice/.ipynb_checkpoints/FE&Prediction-checkpoint.ipynb
   "execution_count": 28,
=======
   "execution_count": 82,
>>>>>>> 42030682f5a6b4886bac9a72aba43e6b5345c753:Houseprice/.ipynb_checkpoints/FE-checkpoint.ipynb
   "metadata": {},
   "outputs": [
    {
     "name": "stdout",
     "output_type": "stream",
     "text": [
      "Shape all_data: (2917, 78)\n"
     ]
    }
   ],
   "source": [
    "from sklearn.preprocessing import LabelEncoder\n",
    "cols = ('FireplaceQu', 'BsmtQual', 'BsmtCond', 'GarageQual', 'GarageCond', \n",
    "        'ExterQual', 'ExterCond','HeatingQC', 'PoolQC', 'KitchenQual', 'BsmtFinType1', \n",
    "        'BsmtFinType2', 'Functional', 'Fence', 'BsmtExposure', 'GarageFinish', 'LandSlope',\n",
    "        'LotShape', 'PavedDrive', 'Street', 'Alley', 'CentralAir', 'MSSubClass', 'OverallCond', \n",
    "        'YrSold', 'MoSold')\n",
    "# process columns, apply LabelEncoder to categorical features\n",
    "for c in cols:\n",
    "    lbl = LabelEncoder() \n",
    "    lbl.fit(list(all_data[c].values)) \n",
    "    all_data[c] = lbl.transform(list(all_data[c].values))\n",
    "\n",
    "# shape        \n",
    "print('Shape all_data: {}'.format(all_data.shape))"
   ]
  },
  {
   "cell_type": "code",
<<<<<<< HEAD:Houseprice/.ipynb_checkpoints/FE&Prediction-checkpoint.ipynb
   "execution_count": 29,
=======
   "execution_count": 83,
>>>>>>> 42030682f5a6b4886bac9a72aba43e6b5345c753:Houseprice/.ipynb_checkpoints/FE-checkpoint.ipynb
   "metadata": {
    "collapsed": true
   },
   "outputs": [],
   "source": [
    "# Adding total sqfootage feature \n",
    "all_data['TotalSF'] = all_data['TotalBsmtSF'] + all_data['1stFlrSF'] + all_data['2ndFlrSF']"
   ]
  },
  {
   "cell_type": "code",
<<<<<<< HEAD:Houseprice/.ipynb_checkpoints/FE&Prediction-checkpoint.ipynb
   "execution_count": 30,
=======
   "execution_count": 84,
>>>>>>> 42030682f5a6b4886bac9a72aba43e6b5345c753:Houseprice/.ipynb_checkpoints/FE-checkpoint.ipynb
   "metadata": {},
   "outputs": [
    {
     "name": "stdout",
     "output_type": "stream",
     "text": [
      "\n",
      "Skew in numerical features: \n",
      "\n"
     ]
    },
    {
     "data": {
      "text/html": [
       "<div>\n",
       "<style>\n",
       "    .dataframe thead tr:only-child th {\n",
       "        text-align: right;\n",
       "    }\n",
       "\n",
       "    .dataframe thead th {\n",
       "        text-align: left;\n",
       "    }\n",
       "\n",
       "    .dataframe tbody tr th {\n",
       "        vertical-align: top;\n",
       "    }\n",
       "</style>\n",
       "<table border=\"1\" class=\"dataframe\">\n",
       "  <thead>\n",
       "    <tr style=\"text-align: right;\">\n",
       "      <th></th>\n",
       "      <th>Skew</th>\n",
       "    </tr>\n",
       "  </thead>\n",
       "  <tbody>\n",
       "    <tr>\n",
       "      <th>MiscVal</th>\n",
       "      <td>21.939672</td>\n",
       "    </tr>\n",
       "    <tr>\n",
       "      <th>PoolArea</th>\n",
       "      <td>17.688664</td>\n",
       "    </tr>\n",
       "    <tr>\n",
       "      <th>LotArea</th>\n",
       "      <td>13.109495</td>\n",
       "    </tr>\n",
       "    <tr>\n",
       "      <th>LowQualFinSF</th>\n",
       "      <td>12.084539</td>\n",
       "    </tr>\n",
       "    <tr>\n",
       "      <th>3SsnPorch</th>\n",
       "      <td>11.372080</td>\n",
       "    </tr>\n",
       "    <tr>\n",
       "      <th>LandSlope</th>\n",
       "      <td>4.973254</td>\n",
       "    </tr>\n",
       "    <tr>\n",
       "      <th>KitchenAbvGr</th>\n",
       "      <td>4.300550</td>\n",
       "    </tr>\n",
       "    <tr>\n",
       "      <th>BsmtFinSF2</th>\n",
       "      <td>4.144503</td>\n",
       "    </tr>\n",
       "    <tr>\n",
       "      <th>EnclosedPorch</th>\n",
       "      <td>4.002344</td>\n",
       "    </tr>\n",
       "    <tr>\n",
       "      <th>ScreenPorch</th>\n",
       "      <td>3.945101</td>\n",
       "    </tr>\n",
       "  </tbody>\n",
       "</table>\n",
       "</div>"
      ],
      "text/plain": [
       "                    Skew\n",
       "MiscVal        21.939672\n",
       "PoolArea       17.688664\n",
       "LotArea        13.109495\n",
       "LowQualFinSF   12.084539\n",
       "3SsnPorch      11.372080\n",
       "LandSlope       4.973254\n",
       "KitchenAbvGr    4.300550\n",
       "BsmtFinSF2      4.144503\n",
       "EnclosedPorch   4.002344\n",
       "ScreenPorch     3.945101"
      ]
     },
<<<<<<< HEAD:Houseprice/.ipynb_checkpoints/FE&Prediction-checkpoint.ipynb
     "execution_count": 30,
=======
     "execution_count": 84,
>>>>>>> 42030682f5a6b4886bac9a72aba43e6b5345c753:Houseprice/.ipynb_checkpoints/FE-checkpoint.ipynb
     "metadata": {},
     "output_type": "execute_result"
    }
   ],
   "source": [
    "from scipy import stats\n",
    "from scipy.stats import norm, skew #for some statistics\n",
    "numeric_feats = all_data.dtypes[all_data.dtypes != \"object\"].index\n",
    "\n",
    "# Check the skew of all numerical features\n",
    "skewed_feats = all_data[numeric_feats].apply(lambda x: skew(x.dropna())).sort_values(ascending=False)\n",
    "print(\"\\nSkew in numerical features: \\n\")\n",
    "skewness = pd.DataFrame({'Skew' :skewed_feats})\n",
    "skewness.head(10)"
   ]
  },
  {
   "cell_type": "code",
<<<<<<< HEAD:Houseprice/.ipynb_checkpoints/FE&Prediction-checkpoint.ipynb
   "execution_count": 31,
=======
   "execution_count": 85,
>>>>>>> 42030682f5a6b4886bac9a72aba43e6b5345c753:Houseprice/.ipynb_checkpoints/FE-checkpoint.ipynb
   "metadata": {},
   "outputs": [
    {
     "name": "stdout",
     "output_type": "stream",
     "text": [
      "There are 59 skewed numerical features to Box Cox transform\n"
     ]
    }
   ],
   "source": [
    "skewness = skewness[abs(skewness) > 0.75]\n",
    "print(\"There are {} skewed numerical features to Box Cox transform\".format(skewness.shape[0]))\n",
    "\n",
    "from scipy.special import boxcox1p\n",
    "skewed_features = skewness.index\n",
    "lam = 0.15\n",
    "for feat in skewed_features:\n",
    "    #all_data[feat] += 1\n",
    "    all_data[feat] = boxcox1p(all_data[feat], lam)"
   ]
  },
  {
   "cell_type": "code",
<<<<<<< HEAD:Houseprice/.ipynb_checkpoints/FE&Prediction-checkpoint.ipynb
   "execution_count": 32,
=======
   "execution_count": 86,
>>>>>>> 42030682f5a6b4886bac9a72aba43e6b5345c753:Houseprice/.ipynb_checkpoints/FE-checkpoint.ipynb
   "metadata": {},
   "outputs": [
    {
     "name": "stdout",
     "output_type": "stream",
     "text": [
      "(2917, 220)\n"
     ]
    }
   ],
   "source": [
    "all_data = pd.get_dummies(all_data)\n",
    "print(all_data.shape)"
   ]
  },
  {
   "cell_type": "code",
<<<<<<< HEAD:Houseprice/.ipynb_checkpoints/FE&Prediction-checkpoint.ipynb
   "execution_count": 33,
=======
   "execution_count": 87,
>>>>>>> 42030682f5a6b4886bac9a72aba43e6b5345c753:Houseprice/.ipynb_checkpoints/FE-checkpoint.ipynb
   "metadata": {
    "collapsed": true
   },
   "outputs": [],
   "source": [
    "train = all_data[:ntrain]\n",
    "test = all_data[ntrain:]"
   ]
  },
  {
   "cell_type": "code",
<<<<<<< HEAD:Houseprice/.ipynb_checkpoints/FE&Prediction-checkpoint.ipynb
   "execution_count": 90,
   "metadata": {},
   "outputs": [],
   "source": [
    "#Modelling\n",
    "from sklearn.linear_model import ElasticNet, Lasso,  BayesianRidge, LassoLarsIC,Ridge,LinearRegression\n",
    "from sklearn.ensemble import RandomForestRegressor,  GradientBoostingRegressor\n",
=======
   "execution_count": 38,
   "metadata": {
    "collapsed": true
   },
   "outputs": [],
   "source": [
    "# output processed data to file\n",
    "\n",
    "#all_data.to_csv(\"data_processed.csv\")"
   ]
  },
  {
   "cell_type": "code",
   "execution_count": 88,
   "metadata": {},
   "outputs": [],
   "source": [
    "from sklearn.linear_model import ElasticNet, Lasso, BayesianRidge, LassoLarsIC\n",
    "from sklearn.ensemble import RandomForestRegressor, GradientBoostingRegressor\n",
>>>>>>> 42030682f5a6b4886bac9a72aba43e6b5345c753:Houseprice/.ipynb_checkpoints/FE-checkpoint.ipynb
    "from sklearn.kernel_ridge import KernelRidge\n",
    "from sklearn.pipeline import make_pipeline\n",
    "from sklearn.preprocessing import RobustScaler\n",
    "from sklearn.base import BaseEstimator, TransformerMixin, RegressorMixin, clone\n",
    "from sklearn.model_selection import KFold, cross_val_score, train_test_split\n",
    "from sklearn.metrics import mean_squared_error\n",
<<<<<<< HEAD:Houseprice/.ipynb_checkpoints/FE&Prediction-checkpoint.ipynb
    "import xgboost as xgb\n",
    "import lightgbm as lgb\n",
    "from sklearn.svm import SVR\n",
    "from sklearn.tree import DecisionTreeRegressor\n",
    "from sklearn.neighbors import KNeighborsRegressor"
=======
    "#import xgboost as xgb\n",
    "#import lightgbm as lgb"
>>>>>>> 42030682f5a6b4886bac9a72aba43e6b5345c753:Houseprice/.ipynb_checkpoints/FE-checkpoint.ipynb
   ]
  },
  {
   "cell_type": "code",
<<<<<<< HEAD:Houseprice/.ipynb_checkpoints/FE&Prediction-checkpoint.ipynb
   "execution_count": 35,
=======
   "execution_count": 89,
>>>>>>> 42030682f5a6b4886bac9a72aba43e6b5345c753:Houseprice/.ipynb_checkpoints/FE-checkpoint.ipynb
   "metadata": {
    "collapsed": true
   },
   "outputs": [],
   "source": [
<<<<<<< HEAD:Houseprice/.ipynb_checkpoints/FE&Prediction-checkpoint.ipynb
    "#Validation function\n",
    "n_folds = 5\n",
    "\n",
=======
    "# Validation function\n",
    "n_folds = 5\n",
    "\n",
    "# use the cross_val_score function of Sklearn.\n",
    "# However this function has not a shuffle attribut,\n",
    "# we add then one line of code, in order to shuffle the dataset prior to cross-validation\n",
>>>>>>> 42030682f5a6b4886bac9a72aba43e6b5345c753:Houseprice/.ipynb_checkpoints/FE-checkpoint.ipynb
    "def rmsle_cv(model):\n",
    "    kf = KFold(n_folds, shuffle=True, random_state=42).get_n_splits(train.values)\n",
    "    rmse= np.sqrt(-cross_val_score(model, train.values, y_train, scoring=\"neg_mean_squared_error\", cv = kf))\n",
    "    return(rmse)"
   ]
  },
  {
   "cell_type": "code",
<<<<<<< HEAD:Houseprice/.ipynb_checkpoints/FE&Prediction-checkpoint.ipynb
   "execution_count": 110,
   "metadata": {
    "collapsed": true
   },
   "outputs": [],
   "source": [
    "#LASSO Regression\n",
    "lasso = make_pipeline(RobustScaler(), Lasso(alpha =0.0005, random_state=1))"
=======
   "execution_count": 90,
   "metadata": {},
   "outputs": [],
   "source": [
    "# lasso is very sensitive to outliers. so make it more robust\n",
    "# lasso regression\n",
    "lasso = make_pipeline(RobustScaler(), Lasso(alpha =0.0005, random_state=1))\n",
    "# Elastic net regression\n",
    "ENet = make_pipeline(RobustScaler(), ElasticNet(alpha=0.0005, l1_ratio=.9, random_state=3))\n",
    "# Kernel Ridge Regression\n",
    "KRR = KernelRidge(alpha=0.6, kernel='polynomial', degree=2, coef0=2.5)\n",
    "# Gradient Boosting Regression\n",
    "GBoost = GradientBoostingRegressor(n_estimators=3000, learning_rate=0.05,\n",
    "                                   max_depth=4, max_features='sqrt',\n",
    "                                   min_samples_leaf=15, min_samples_split=10, \n",
    "                                   loss='huber', random_state =5)\n",
    "# XGBoost\n",
    "# model_xgb = xgb.XGBRegressor(colsample_bytree=0.4603, gamma=0.0468, \n",
    "#                              learning_rate=0.05, max_depth=3, \n",
    "#                              min_child_weight=1.7817, n_estimators=2200,\n",
    "#                              reg_alpha=0.4640, reg_lambda=0.8571,\n",
    "#                              subsample=0.5213, silent=1,\n",
    "#                              random_state =7, nthread = -1)\n",
    "# LightGBM\n",
    "# model_lgb = lgb.LGBMRegressor(objective='regression',num_leaves=5,\n",
    "#                               learning_rate=0.05, n_estimators=720,\n",
    "#                               max_bin = 55, bagging_fraction = 0.8,\n",
    "#                               bagging_freq = 5, feature_fraction = 0.2319,\n",
    "#                               feature_fraction_seed=9, bagging_seed=9,\n",
    "#                               min_data_in_leaf =6, min_sum_hessian_in_leaf = 11)"
>>>>>>> 42030682f5a6b4886bac9a72aba43e6b5345c753:Houseprice/.ipynb_checkpoints/FE-checkpoint.ipynb
   ]
  },
  {
   "cell_type": "code",
<<<<<<< HEAD:Houseprice/.ipynb_checkpoints/FE&Prediction-checkpoint.ipynb
   "execution_count": 37,
   "metadata": {
    "collapsed": true
   },
   "outputs": [],
   "source": [
    "#Elastic Net Regression\n",
    "ENet = make_pipeline(RobustScaler(), ElasticNet(alpha=0.0005, l1_ratio=.9, random_state=3))"
=======
   "execution_count": 94,
   "metadata": {},
   "outputs": [
    {
     "name": "stdout",
     "output_type": "stream",
     "text": [
      "\n",
      "Lasso score: 0.1115 (0.0074)\n",
      "\n"
     ]
    }
   ],
   "source": [
    "# scores\n",
    "# base models perform on the data by evaluating the cross-validation rmsle error\n",
    "score = rmsle_cv(lasso)\n",
    "print(\"\\nLasso score: {:.4f} ({:.4f})\\n\".format(score.mean(), score.std()))"
>>>>>>> 42030682f5a6b4886bac9a72aba43e6b5345c753:Houseprice/.ipynb_checkpoints/FE-checkpoint.ipynb
   ]
  },
  {
   "cell_type": "code",
<<<<<<< HEAD:Houseprice/.ipynb_checkpoints/FE&Prediction-checkpoint.ipynb
   "execution_count": 38,
   "metadata": {
    "collapsed": true
   },
   "outputs": [],
   "source": [
    "#Kernel Ridge Regression\n",
    "KRR = KernelRidge(alpha=0.6, kernel='polynomial', degree=2, coef0=2.5)"
=======
   "execution_count": 95,
   "metadata": {},
   "outputs": [
    {
     "name": "stdout",
     "output_type": "stream",
     "text": [
      "ElasticNet score: 0.1116 (0.0074)\n",
      "\n"
     ]
    }
   ],
   "source": [
    "score = rmsle_cv(ENet)\n",
    "print(\"ElasticNet score: {:.4f} ({:.4f})\\n\".format(score.mean(), score.std()))"
>>>>>>> 42030682f5a6b4886bac9a72aba43e6b5345c753:Houseprice/.ipynb_checkpoints/FE-checkpoint.ipynb
   ]
  },
  {
   "cell_type": "code",
<<<<<<< HEAD:Houseprice/.ipynb_checkpoints/FE&Prediction-checkpoint.ipynb
   "execution_count": 39,
   "metadata": {
    "collapsed": true
   },
   "outputs": [],
   "source": [
    "#Gradient Boosting Regression\n",
    "GBoost = GradientBoostingRegressor(n_estimators=3000, learning_rate=0.05,\n",
    "                                   max_depth=4, max_features='sqrt',\n",
    "                                   min_samples_leaf=15, min_samples_split=10, \n",
    "                                   loss='huber', random_state =5)"
=======
   "execution_count": 96,
   "metadata": {},
   "outputs": [
    {
     "name": "stdout",
     "output_type": "stream",
     "text": [
      "Kernel Ridge score: 0.1153 (0.0075)\n",
      "\n"
     ]
    }
   ],
   "source": [
    "score = rmsle_cv(KRR)\n",
    "print(\"Kernel Ridge score: {:.4f} ({:.4f})\\n\".format(score.mean(), score.std()))"
   ]
  },
  {
   "cell_type": "code",
   "execution_count": 97,
   "metadata": {},
   "outputs": [
    {
     "name": "stdout",
     "output_type": "stream",
     "text": [
      "Gradient Boosting score: 0.1177 (0.0080)\n",
      "\n"
     ]
    }
   ],
   "source": [
    "score = rmsle_cv(GBoost)\n",
    "print(\"Gradient Boosting score: {:.4f} ({:.4f})\\n\".format(score.mean(), score.std()))"
   ]
  },
  {
   "cell_type": "code",
   "execution_count": 101,
   "metadata": {},
   "outputs": [],
   "source": [
    "# score = rmsle_cv(model_xgb)\n",
    "# print(\"Xgboost score: {:.4f} ({:.4f})\\n\".format(score.mean(), score.std()))"
>>>>>>> 42030682f5a6b4886bac9a72aba43e6b5345c753:Houseprice/.ipynb_checkpoints/FE-checkpoint.ipynb
   ]
  },
  {
   "cell_type": "code",
<<<<<<< HEAD:Houseprice/.ipynb_checkpoints/FE&Prediction-checkpoint.ipynb
   "execution_count": 152,
   "metadata": {},
   "outputs": [],
   "source": [
    "#XGBoost \n",
    "model_xgb = xgb.XGBRegressor(colsample_bytree=0.4603, gamma=0.0468, \n",
    "                             learning_rate=0.05, max_depth=3, \n",
    "                             min_child_weight=1.7817, n_estimators=2200,\n",
    "                             reg_alpha=0.4640, reg_lambda=0.8571,\n",
    "                             subsample=0.5213, silent=1,\n",
    "                             seed=7,nthread = -1)"
=======
   "execution_count": 100,
   "metadata": {},
   "outputs": [],
   "source": [
    "# score = rmsle_cv(model_lgb)\n",
    "# print(\"LGBM score: {:.4f} ({:.4f})\\n\" .format(score.mean(), score.std()))"
>>>>>>> 42030682f5a6b4886bac9a72aba43e6b5345c753:Houseprice/.ipynb_checkpoints/FE-checkpoint.ipynb
   ]
  },
  {
   "cell_type": "code",
<<<<<<< HEAD:Houseprice/.ipynb_checkpoints/FE&Prediction-checkpoint.ipynb
   "execution_count": 41,
=======
   "execution_count": 111,
>>>>>>> 42030682f5a6b4886bac9a72aba43e6b5345c753:Houseprice/.ipynb_checkpoints/FE-checkpoint.ipynb
   "metadata": {
    "collapsed": true
   },
   "outputs": [],
   "source": [
<<<<<<< HEAD:Houseprice/.ipynb_checkpoints/FE&Prediction-checkpoint.ipynb
    "#LightGBM\n",
    "model_lgb = lgb.LGBMRegressor(objective='regression',num_leaves=5,\n",
    "                              learning_rate=0.05, n_estimators=720,\n",
    "                              max_bin = 55, bagging_fraction = 0.8,\n",
    "                              bagging_freq = 5, feature_fraction = 0.2319,\n",
    "                              feature_fraction_seed=9, bagging_seed=9,\n",
    "                              min_data_in_leaf =6, min_sum_hessian_in_leaf = 11)"
=======
    "# Stacking models\n",
    "# Simplest Stacking approach : Averaging base models\n",
    "class AveragingModels(BaseEstimator, RegressorMixin, TransformerMixin):\n",
    "    def __init__(self, models):\n",
    "        self.models = models\n",
    "    # define clones of the original models to fit the data in\n",
    "    def fit(self, X, y):\n",
    "        self.models_ = [clone(x) for x in self.models]\n",
    "        # Train cloned base models\n",
    "        for model in self.models_:\n",
    "            model.fit(X, y)\n",
    "        return self    \n",
    "    # predictions for cloned models and average them\n",
    "    def predict(self, X):\n",
    "        predictions = np.column_stack([\n",
    "            model.predict(X) for model in self.models_\n",
    "        ])\n",
    "        return np.mean(predictions, axis=1)"
>>>>>>> 42030682f5a6b4886bac9a72aba43e6b5345c753:Houseprice/.ipynb_checkpoints/FE-checkpoint.ipynb
   ]
  },
  {
   "cell_type": "code",
<<<<<<< HEAD:Houseprice/.ipynb_checkpoints/FE&Prediction-checkpoint.ipynb
   "execution_count": 203,
=======
   "execution_count": 113,
>>>>>>> 42030682f5a6b4886bac9a72aba43e6b5345c753:Houseprice/.ipynb_checkpoints/FE-checkpoint.ipynb
   "metadata": {},
   "outputs": [
    {
     "name": "stdout",
     "output_type": "stream",
     "text": [
<<<<<<< HEAD:Houseprice/.ipynb_checkpoints/FE&Prediction-checkpoint.ipynb
      "\n",
      "BayesianRidge score: 0.1158 (0.0079)\n",
=======
      " Averaged base models score: 0.1091 (0.0075)\n",
>>>>>>> 42030682f5a6b4886bac9a72aba43e6b5345c753:Houseprice/.ipynb_checkpoints/FE-checkpoint.ipynb
      "\n"
     ]
    }
   ],
   "source": [
<<<<<<< HEAD:Houseprice/.ipynb_checkpoints/FE&Prediction-checkpoint.ipynb
    "model_br = BayesianRidge(alpha_1=40, lambda_1=38)\n",
    "score = rmsle_cv(model_br)\n",
    "print(\"\\nBayesianRidge score: {:.4f} ({:.4f})\\n\".format(score.mean(), score.std()))"
=======
    "# Averaging base models Score\n",
    "averaged_models = AveragingModels(models = (ENet, GBoost, KRR, lasso))\n",
    "\n",
    "score = rmsle_cv(averaged_models)\n",
    "print(\" Averaged base models score: {:.4f} ({:.4f})\\n\".format(score.mean(), score.std()))"
   ]
  },
  {
   "cell_type": "code",
   "execution_count": 115,
   "metadata": {
    "collapsed": true
   },
   "outputs": [],
   "source": [
    "# Less simple Stacking : Adding a Meta-model\n",
    "# Stacking averaged Models Class\n",
    "class StackingAveragedModels(BaseEstimator, RegressorMixin, TransformerMixin):\n",
    "    def __init__(self, base_models, meta_model, n_folds=5):\n",
    "        self.base_models = base_models\n",
    "        self.meta_model = meta_model\n",
    "        self.n_folds = n_folds\n",
    "   \n",
    "    # fit the data on clones of the original models again\n",
    "    def fit(self, X, y):\n",
    "        self.base_models_ = [list() for x in self.base_models]\n",
    "        self.meta_model_ = clone(self.meta_model)\n",
    "        kfold = KFold(n_splits=self.n_folds, shuffle=True, random_state=156)\n",
    "        \n",
    "        # Train cloned base models then create out-of-fold predictions\n",
    "        # that are needed to train the cloned meta-model\n",
    "        out_of_fold_predictions = np.zeros((X.shape[0], len(self.base_models)))\n",
    "        for i, model in enumerate(self.base_models):\n",
    "            for train_index, holdout_index in kfold.split(X, y):\n",
    "                instance = clone(model)\n",
    "                self.base_models_[i].append(instance)\n",
    "                instance.fit(X[train_index], y[train_index])\n",
    "                y_pred = instance.predict(X[holdout_index])\n",
    "                out_of_fold_predictions[holdout_index, i] = y_pred\n",
    "                \n",
    "        # Now train the cloned  meta-model using the out-of-fold predictions as new feature\n",
    "        self.meta_model_.fit(out_of_fold_predictions, y)\n",
    "        return self\n",
    "   \n",
    "    #Do the predictions of all base models on the test data and use the averaged predictions as \n",
    "    #meta-features for the final prediction which is done by the meta-model\n",
    "    def predict(self, X):\n",
    "        meta_features = np.column_stack([\n",
    "            np.column_stack([model.predict(X) for model in base_models]).mean(axis=1)\n",
    "            for base_models in self.base_models_ ])\n",
    "        return self.meta_model_.predict(meta_features)"
>>>>>>> 42030682f5a6b4886bac9a72aba43e6b5345c753:Houseprice/.ipynb_checkpoints/FE-checkpoint.ipynb
   ]
  },
  {
   "cell_type": "code",
<<<<<<< HEAD:Houseprice/.ipynb_checkpoints/FE&Prediction-checkpoint.ipynb
   "execution_count": 149,
=======
   "execution_count": 116,
>>>>>>> 42030682f5a6b4886bac9a72aba43e6b5345c753:Houseprice/.ipynb_checkpoints/FE-checkpoint.ipynb
   "metadata": {},
   "outputs": [
    {
     "name": "stdout",
     "output_type": "stream",
     "text": [
<<<<<<< HEAD:Houseprice/.ipynb_checkpoints/FE&Prediction-checkpoint.ipynb
      "\n",
      "SVR: 0.1168 (0.0077)\n",
      "\n"
=======
      "Stacking Averaged models score: 0.1085 (0.0074)\n"
>>>>>>> 42030682f5a6b4886bac9a72aba43e6b5345c753:Houseprice/.ipynb_checkpoints/FE-checkpoint.ipynb
     ]
    }
   ],
   "source": [
<<<<<<< HEAD:Houseprice/.ipynb_checkpoints/FE&Prediction-checkpoint.ipynb
    "model_svr = SVR(kernel = 'linear',C=0.02)\n",
    "\n",
    "score = rmsle_cv(model_svr)\n",
    "print(\"\\nSVR: {:.4f} ({:.4f})\\n\".format(score.mean(), score.std()))"
   ]
  },
  {
   "cell_type": "code",
   "execution_count": 204,
   "metadata": {},
   "outputs": [
    {
     "name": "stdout",
     "output_type": "stream",
     "text": [
      "\n",
      "DecisionTreeRegressor score: 0.2039 (0.0144)\n",
      "\n"
     ]
    }
   ],
   "source": [
    "model_dtr = DecisionTreeRegressor()\n",
    "score = rmsle_cv(model_dtr)\n",
    "print(\"\\nDecisionTreeRegressor score: {:.4f} ({:.4f})\\n\".format(score.mean(), score.std()))"
   ]
  },
  {
   "cell_type": "code",
   "execution_count": 205,
   "metadata": {},
   "outputs": [
    {
     "name": "stdout",
     "output_type": "stream",
     "text": [
      "\n",
      "KNeighborsRegressor score: 0.2369 (0.0092)\n",
      "\n"
     ]
    }
   ],
   "source": [
    "model_knr = KNeighborsRegressor()\n",
    "score = rmsle_cv(model_knr)\n",
    "print(\"\\nKNeighborsRegressor score: {:.4f} ({:.4f})\\n\".format(score.mean(), score.std()))"
   ]
  },
  {
   "cell_type": "code",
   "execution_count": 206,
   "metadata": {},
   "outputs": [
    {
     "name": "stdout",
     "output_type": "stream",
     "text": [
      "\n",
      "Ridge score: 0.1191 (0.0101)\n",
      "\n"
     ]
    }
   ],
   "source": [
    "model_ridge = Ridge()\n",
    "score = rmsle_cv(model_ridge)\n",
    "print(\"\\nRidge score: {:.4f} ({:.4f})\\n\".format(score.mean(), score.std()))"
   ]
  },
  {
   "cell_type": "code",
   "execution_count": 111,
   "metadata": {},
   "outputs": [
    {
     "name": "stdout",
     "output_type": "stream",
     "text": [
      "\n",
      "Lasso score: 0.1115 (0.0074)\n",
      "\n"
     ]
    }
   ],
   "source": [
    "score = rmsle_cv(lasso)\n",
    "print(\"\\nLasso score: {:.4f} ({:.4f})\\n\".format(score.mean(), score.std()))"
   ]
  },
  {
   "cell_type": "code",
   "execution_count": 43,
   "metadata": {},
   "outputs": [
    {
     "name": "stdout",
     "output_type": "stream",
     "text": [
      "ElasticNet score: 0.1116 (0.0074)\n",
      "\n"
     ]
    }
   ],
   "source": [
    "score = rmsle_cv(ENet)\n",
    "print(\"ElasticNet score: {:.4f} ({:.4f})\\n\".format(score.mean(), score.std()))"
   ]
  },
  {
   "cell_type": "code",
   "execution_count": 44,
   "metadata": {},
   "outputs": [
    {
     "name": "stdout",
     "output_type": "stream",
     "text": [
      "Kernel Ridge score: 0.1153 (0.0075)\n",
      "\n"
     ]
    }
   ],
   "source": [
    "score = rmsle_cv(KRR)\n",
    "print(\"Kernel Ridge score: {:.4f} ({:.4f})\\n\".format(score.mean(), score.std()))"
   ]
  },
  {
   "cell_type": "code",
   "execution_count": 45,
   "metadata": {},
   "outputs": [
    {
     "name": "stdout",
     "output_type": "stream",
     "text": [
      "Gradient Boosting score: 0.1177 (0.0080)\n",
      "\n"
     ]
    }
   ],
   "source": [
    "score = rmsle_cv(GBoost)\n",
    "print(\"Gradient Boosting score: {:.4f} ({:.4f})\\n\".format(score.mean(), score.std()))"
   ]
  },
  {
   "cell_type": "code",
   "execution_count": 153,
   "metadata": {},
   "outputs": [
    {
     "name": "stdout",
     "output_type": "stream",
     "text": [
      "Xgboost score: 0.1158 (0.0064)\n",
      "\n"
     ]
    }
   ],
   "source": [
    "score = rmsle_cv(model_xgb)\n",
    "print(\"Xgboost score: {:.4f} ({:.4f})\\n\".format(score.mean(), score.std()))"
   ]
  },
  {
   "cell_type": "code",
   "execution_count": 47,
   "metadata": {},
   "outputs": [
    {
     "name": "stdout",
     "output_type": "stream",
     "text": [
      "LGBM score: 0.1154 (0.0062)\n",
      "\n"
     ]
    }
   ],
   "source": [
    "score = rmsle_cv(model_lgb)\n",
    "print(\"LGBM score: {:.4f} ({:.4f})\\n\" .format(score.mean(), score.std()))"
   ]
  },
  {
   "cell_type": "code",
   "execution_count": 48,
   "metadata": {
    "collapsed": true
   },
   "outputs": [],
   "source": [
    "class AveragingModels(BaseEstimator, RegressorMixin, TransformerMixin):\n",
    "    def __init__(self, models):\n",
    "        self.models = models\n",
    "        \n",
    "    # we define clones of the original models to fit the data in\n",
    "    def fit(self, X, y):\n",
    "        self.models_ = [clone(x) for x in self.models]\n",
    "        \n",
    "        # Train cloned base models\n",
    "        for model in self.models_:\n",
    "            model.fit(X, y)\n",
    "\n",
    "        return self\n",
    "    \n",
    "    #Now we do the predictions for cloned models and average them\n",
    "    def predict(self, X):\n",
    "        predictions = np.column_stack([\n",
    "            model.predict(X) for model in self.models_\n",
    "        ])\n",
    "        return np.mean(predictions, axis=1)  "
   ]
  },
  {
   "cell_type": "code",
   "execution_count": 223,
   "metadata": {},
   "outputs": [
    {
     "name": "stdout",
     "output_type": "stream",
     "text": [
      " Averaged base models score: 0.1091 (0.0075)\n",
      "\n"
     ]
    }
   ],
   "source": [
    "averaged_models = AveragingModels(models = (ENet, GBoost, KRR, lasso))\n",
    "\n",
    "score = rmsle_cv(averaged_models)\n",
    "print(\" Averaged base models score: {:.4f} ({:.4f})\\n\".format(score.mean(), score.std()))"
   ]
  },
  {
   "cell_type": "code",
   "execution_count": 50,
   "metadata": {
    "collapsed": true
   },
   "outputs": [],
   "source": [
    "class StackingAveragedModels(BaseEstimator, RegressorMixin, TransformerMixin):\n",
    "    def __init__(self, base_models, meta_model, n_folds=5):\n",
    "        self.base_models = base_models\n",
    "        self.meta_model = meta_model\n",
    "        self.n_folds = n_folds\n",
    "   \n",
    "    # We again fit the data on clones of the original models\n",
    "    def fit(self, X, y):\n",
    "        self.base_models_ = [list() for x in self.base_models]\n",
    "        self.meta_model_ = clone(self.meta_model)\n",
    "        kfold = KFold(n_splits=self.n_folds, shuffle=True, random_state=156)\n",
    "        \n",
    "        # Train cloned base models then create out-of-fold predictions\n",
    "        # that are needed to train the cloned meta-model\n",
    "        out_of_fold_predictions = np.zeros((X.shape[0], len(self.base_models)))\n",
    "        for i, model in enumerate(self.base_models):\n",
    "            for train_index, holdout_index in kfold.split(X, y):\n",
    "                instance = clone(model)\n",
    "                self.base_models_[i].append(instance)\n",
    "                instance.fit(X[train_index], y[train_index])\n",
    "                y_pred = instance.predict(X[holdout_index])\n",
    "                out_of_fold_predictions[holdout_index, i] = y_pred\n",
    "                \n",
    "        # Now train the cloned  meta-model using the out-of-fold predictions as new feature\n",
    "        self.meta_model_.fit(out_of_fold_predictions, y)\n",
    "        return self\n",
    "   \n",
    "    #Do the predictions of all base models on the test data and use the averaged predictions as \n",
    "    #meta-features for the final prediction which is done by the meta-model\n",
    "    def predict(self, X):\n",
    "        meta_features = np.column_stack([\n",
    "            np.column_stack([model.predict(X) for model in base_models]).mean(axis=1)\n",
    "            for base_models in self.base_models_ ])\n",
    "        return self.meta_model_.predict(meta_features)"
   ]
  },
  {
   "cell_type": "code",
   "execution_count": 232,
   "metadata": {},
   "outputs": [
    {
     "name": "stdout",
     "output_type": "stream",
     "text": [
      "Stacking Averaged models score: 0.1095 (0.0077)\n"
     ]
    }
   ],
   "source": [
=======
    "# Stacking Averaged models Score\n",
>>>>>>> 42030682f5a6b4886bac9a72aba43e6b5345c753:Houseprice/.ipynb_checkpoints/FE-checkpoint.ipynb
    "stacked_averaged_models = StackingAveragedModels(base_models = (ENet, GBoost, KRR),\n",
    "                                                 meta_model = lasso)\n",
    "\n",
    "score = rmsle_cv(stacked_averaged_models)\n",
    "print(\"Stacking Averaged models score: {:.4f} ({:.4f})\".format(score.mean(), score.std()))"
   ]
  },
  {
   "cell_type": "code",
<<<<<<< HEAD:Houseprice/.ipynb_checkpoints/FE&Prediction-checkpoint.ipynb
   "execution_count": 54,
=======
   "execution_count": 118,
>>>>>>> 42030682f5a6b4886bac9a72aba43e6b5345c753:Houseprice/.ipynb_checkpoints/FE-checkpoint.ipynb
   "metadata": {
    "collapsed": true
   },
   "outputs": [],
   "source": [
    "def rmsle(y, y_pred):\n",
    "    return np.sqrt(mean_squared_error(y, y_pred))"
   ]
  },
  {
   "cell_type": "code",
<<<<<<< HEAD:Houseprice/.ipynb_checkpoints/FE&Prediction-checkpoint.ipynb
   "execution_count": 230,
=======
   "execution_count": 119,
>>>>>>> 42030682f5a6b4886bac9a72aba43e6b5345c753:Houseprice/.ipynb_checkpoints/FE-checkpoint.ipynb
   "metadata": {},
   "outputs": [
    {
     "name": "stdout",
     "output_type": "stream",
     "text": [
<<<<<<< HEAD:Houseprice/.ipynb_checkpoints/FE&Prediction-checkpoint.ipynb
      "0.0789790512127\n"
=======
      "0.0781571937916\n"
>>>>>>> 42030682f5a6b4886bac9a72aba43e6b5345c753:Houseprice/.ipynb_checkpoints/FE-checkpoint.ipynb
     ]
    }
   ],
   "source": [
<<<<<<< HEAD:Houseprice/.ipynb_checkpoints/FE&Prediction-checkpoint.ipynb
=======
    "# StackedRegressor predict\n",
>>>>>>> 42030682f5a6b4886bac9a72aba43e6b5345c753:Houseprice/.ipynb_checkpoints/FE-checkpoint.ipynb
    "stacked_averaged_models.fit(train.values, y_train)\n",
    "stacked_train_pred = stacked_averaged_models.predict(train.values)\n",
    "stacked_pred = np.expm1(stacked_averaged_models.predict(test.values))\n",
    "print(rmsle(y_train, stacked_train_pred))"
   ]
  },
  {
   "cell_type": "code",
<<<<<<< HEAD:Houseprice/.ipynb_checkpoints/FE&Prediction-checkpoint.ipynb
   "execution_count": 56,
   "metadata": {},
   "outputs": [
    {
     "name": "stdout",
     "output_type": "stream",
     "text": [
      "0.0787202501668\n"
     ]
    }
   ],
   "source": [
    "model_xgb.fit(train, y_train)\n",
    "xgb_train_pred = model_xgb.predict(train)\n",
    "xgb_pred = np.expm1(model_xgb.predict(test))\n",
    "print(rmsle(y_train, xgb_train_pred))"
=======
   "execution_count": 124,
   "metadata": {},
   "outputs": [],
   "source": [
    "# XGBoost predict\n",
    "# model_xgb.fit(train, y_train)\n",
    "# xgb_train_pred = model_xgb.predict(train)\n",
    "# xgb_pred = np.expm1(model_xgb.predict(test))\n",
    "# print(rmsle(y_train, xgb_train_pred))"
>>>>>>> 42030682f5a6b4886bac9a72aba43e6b5345c753:Houseprice/.ipynb_checkpoints/FE-checkpoint.ipynb
   ]
  },
  {
   "cell_type": "code",
<<<<<<< HEAD:Houseprice/.ipynb_checkpoints/FE&Prediction-checkpoint.ipynb
   "execution_count": 57,
   "metadata": {},
   "outputs": [
    {
     "name": "stdout",
     "output_type": "stream",
     "text": [
      "0.0719373296796\n"
     ]
    }
   ],
   "source": [
    "model_lgb.fit(train, y_train)\n",
    "lgb_train_pred = model_lgb.predict(train)\n",
    "lgb_pred = np.expm1(model_lgb.predict(test.values))\n",
    "print(rmsle(y_train, lgb_train_pred))"
=======
   "execution_count": 125,
   "metadata": {
    "collapsed": true
   },
   "outputs": [],
   "source": [
    "# LightGBM\n",
    "# model_lgb.fit(train, y_train)\n",
    "# lgb_train_pred = model_lgb.predict(train)\n",
    "# lgb_pred = np.expm1(model_lgb.predict(test.values))\n",
    "# print(rmsle(y_train, lgb_train_pred))"
>>>>>>> 42030682f5a6b4886bac9a72aba43e6b5345c753:Houseprice/.ipynb_checkpoints/FE-checkpoint.ipynb
   ]
  },
  {
   "cell_type": "code",
<<<<<<< HEAD:Houseprice/.ipynb_checkpoints/FE&Prediction-checkpoint.ipynb
   "execution_count": 226,
   "metadata": {},
   "outputs": [
    {
     "name": "stdout",
     "output_type": "stream",
     "text": [
      "RMSLE score on train data:\n",
      "0.0753412350328\n"
     ]
    }
   ],
   "source": [
    "print('RMSLE score on train data:')\n",
    "print(rmsle(y_train,stacked_train_pred*0.70 +\n",
    "               xgb_train_pred*0.15 + lgb_train_pred*0.15 ))"
=======
   "execution_count": 128,
   "metadata": {},
   "outputs": [],
   "source": [
    "# RMSE on the entire Train data when averaging\n",
    "\n",
    "# print('RMSLE score on train data:')\n",
    "# print(rmsle(y_train,stacked_train_pred*0.70 +\n",
    "#                xgb_train_pred*0.15 + lgb_train_pred*0.15 ))"
>>>>>>> 42030682f5a6b4886bac9a72aba43e6b5345c753:Houseprice/.ipynb_checkpoints/FE-checkpoint.ipynb
   ]
  },
  {
   "cell_type": "code",
<<<<<<< HEAD:Houseprice/.ipynb_checkpoints/FE&Prediction-checkpoint.ipynb
   "execution_count": 227,
   "metadata": {
    "collapsed": true
   },
   "outputs": [],
   "source": [
    "ensemble = stacked_pred*0.70 + xgb_pred*0.15 + lgb_pred*0.15"
=======
   "execution_count": 130,
   "metadata": {},
   "outputs": [],
   "source": [
    "# Ensemble prediction\n",
    "# ensemble = stacked_pred*0.70 + xgb_pred*0.15 + lgb_pred*0.15"
>>>>>>> 42030682f5a6b4886bac9a72aba43e6b5345c753:Houseprice/.ipynb_checkpoints/FE-checkpoint.ipynb
   ]
  },
  {
   "cell_type": "code",
<<<<<<< HEAD:Houseprice/.ipynb_checkpoints/FE&Prediction-checkpoint.ipynb
   "execution_count": 228,
=======
   "execution_count": 131,
>>>>>>> 42030682f5a6b4886bac9a72aba43e6b5345c753:Houseprice/.ipynb_checkpoints/FE-checkpoint.ipynb
   "metadata": {
    "collapsed": true
   },
   "outputs": [],
   "source": [
<<<<<<< HEAD:Houseprice/.ipynb_checkpoints/FE&Prediction-checkpoint.ipynb
    "sub = pd.DataFrame()\n",
    "sub['Id'] = test_ID\n",
    "sub['SalePrice'] = ensemble\n",
    "sub.to_csv('submission.csv',index=False)"
=======
    "# Submission\n",
    "# sub = pd.DataFrame()\n",
    "# sub['Id'] = test_ID\n",
    "# sub['SalePrice'] = ensemble\n",
    "# sub.to_csv('submission.csv',index=False)"
>>>>>>> 42030682f5a6b4886bac9a72aba43e6b5345c753:Houseprice/.ipynb_checkpoints/FE-checkpoint.ipynb
   ]
  }
 ],
 "metadata": {
  "kernelspec": {
   "display_name": "Python 3",
   "language": "python",
   "name": "python3"
  },
  "language_info": {
   "codemirror_mode": {
    "name": "ipython",
    "version": 3
   },
   "file_extension": ".py",
   "mimetype": "text/x-python",
   "name": "python",
   "nbconvert_exporter": "python",
   "pygments_lexer": "ipython3",
   "version": "3.6.1"
  }
 },
 "nbformat": 4,
 "nbformat_minor": 2
}
